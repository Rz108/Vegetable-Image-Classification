{
 "cells": [
  {
   "cell_type": "markdown",
   "metadata": {},
   "source": [
    "# __Part A: Convolutional Neural Network__"
   ]
  },
  {
   "cell_type": "markdown",
   "metadata": {},
   "source": [
    "<a class=\"anchor\" id=\"1\"></a>\n",
    "## <font color='#71a1e3'> __Previously__</font>\n",
    "<hr style=\"height:1.5px;border-width:0;background-color: #4c8c77\">\n",
    "\n",
    "1. Model Improvement part 1 was done\n",
    "2. 31 x 31 Hyperparameter tuning"
   ]
  },
  {
   "cell_type": "markdown",
   "metadata": {},
   "source": [
    "<a class=\"anchor\" id=\"3\"></a>\n",
    "## <font color='#71a1e3'>__Import Libraries__</font>\n",
    "<hr style=\"height:1.5px;border-width:0;background-color: #4c8c77\">\n",
    "\n",
    "Here is to import all the necessary libraries"
   ]
  },
  {
   "cell_type": "code",
   "execution_count": 1,
   "metadata": {},
   "outputs": [],
   "source": [
    "# !unzip 1.zip"
   ]
  },
  {
   "cell_type": "code",
   "execution_count": 2,
   "metadata": {},
   "outputs": [
    {
     "name": "stdout",
     "output_type": "stream",
     "text": [
      "Requirement already satisfied: tensorflow_addons in /usr/local/lib/python3.8/dist-packages (0.21.0)\n",
      "Requirement already satisfied: keras-tuner in /usr/local/lib/python3.8/dist-packages (1.4.6)\n",
      "Requirement already satisfied: pandas in /usr/local/lib/python3.8/dist-packages (2.0.3)\n",
      "Requirement already satisfied: matplotlib in /usr/local/lib/python3.8/dist-packages (3.5.2)\n",
      "Requirement already satisfied: seaborn in /usr/local/lib/python3.8/dist-packages (0.13.0)\n",
      "Requirement already satisfied: scikit-learn in /usr/local/lib/python3.8/dist-packages (1.3.2)\n",
      "Requirement already satisfied: tqdm in /usr/local/lib/python3.8/dist-packages (4.66.1)\n",
      "Requirement already satisfied: efficientnet in /usr/local/lib/python3.8/dist-packages (1.1.1)\n",
      "Requirement already satisfied: typeguard<3.0.0,>=2.7 in /usr/local/lib/python3.8/dist-packages (from tensorflow_addons) (2.13.3)\n",
      "Requirement already satisfied: packaging in /usr/local/lib/python3.8/dist-packages (from tensorflow_addons) (21.3)\n",
      "Requirement already satisfied: requests in /usr/local/lib/python3.8/dist-packages (from keras-tuner) (2.31.0)\n",
      "Requirement already satisfied: keras in /usr/local/lib/python3.8/dist-packages (from keras-tuner) (2.9.0)\n",
      "Requirement already satisfied: kt-legacy in /usr/local/lib/python3.8/dist-packages (from keras-tuner) (1.0.5)\n",
      "Requirement already satisfied: numpy>=1.20.3; python_version < \"3.10\" in /usr/local/lib/python3.8/dist-packages (from pandas) (1.22.3)\n",
      "Requirement already satisfied: pytz>=2020.1 in /usr/local/lib/python3.8/dist-packages (from pandas) (2023.3.post1)\n",
      "Requirement already satisfied: tzdata>=2022.1 in /usr/local/lib/python3.8/dist-packages (from pandas) (2023.3)\n",
      "Requirement already satisfied: python-dateutil>=2.8.2 in /usr/local/lib/python3.8/dist-packages (from pandas) (2.8.2)\n",
      "Requirement already satisfied: fonttools>=4.22.0 in /usr/local/lib/python3.8/dist-packages (from matplotlib) (4.33.3)\n",
      "Requirement already satisfied: pillow>=6.2.0 in /usr/local/lib/python3.8/dist-packages (from matplotlib) (9.1.0)\n",
      "Requirement already satisfied: cycler>=0.10 in /usr/local/lib/python3.8/dist-packages (from matplotlib) (0.11.0)\n",
      "Requirement already satisfied: kiwisolver>=1.0.1 in /usr/local/lib/python3.8/dist-packages (from matplotlib) (1.4.2)\n",
      "Requirement already satisfied: pyparsing>=2.2.1 in /usr/local/lib/python3.8/dist-packages (from matplotlib) (3.0.9)\n",
      "Requirement already satisfied: scipy>=1.5.0 in /usr/local/lib/python3.8/dist-packages (from scikit-learn) (1.10.1)\n",
      "Requirement already satisfied: threadpoolctl>=2.0.0 in /usr/local/lib/python3.8/dist-packages (from scikit-learn) (3.2.0)\n",
      "Requirement already satisfied: joblib>=1.1.1 in /usr/local/lib/python3.8/dist-packages (from scikit-learn) (1.3.2)\n",
      "Requirement already satisfied: keras-applications<=1.0.8,>=1.0.7 in /usr/local/lib/python3.8/dist-packages (from efficientnet) (1.0.8)\n",
      "Requirement already satisfied: scikit-image in /usr/local/lib/python3.8/dist-packages (from efficientnet) (0.21.0)\n",
      "Requirement already satisfied: urllib3<3,>=1.21.1 in /usr/lib/python3/dist-packages (from requests->keras-tuner) (1.25.8)\n",
      "Requirement already satisfied: idna<4,>=2.5 in /usr/lib/python3/dist-packages (from requests->keras-tuner) (2.8)\n",
      "Requirement already satisfied: certifi>=2017.4.17 in /usr/lib/python3/dist-packages (from requests->keras-tuner) (2019.11.28)\n",
      "Requirement already satisfied: charset-normalizer<4,>=2 in /usr/local/lib/python3.8/dist-packages (from requests->keras-tuner) (3.3.2)\n",
      "Requirement already satisfied: six>=1.5 in /usr/lib/python3/dist-packages (from python-dateutil>=2.8.2->pandas) (1.14.0)\n",
      "Requirement already satisfied: h5py in /usr/local/lib/python3.8/dist-packages (from keras-applications<=1.0.8,>=1.0.7->efficientnet) (3.6.0)\n",
      "Requirement already satisfied: tifffile>=2022.8.12 in /usr/local/lib/python3.8/dist-packages (from scikit-image->efficientnet) (2023.7.10)\n",
      "Requirement already satisfied: networkx>=2.8 in /usr/local/lib/python3.8/dist-packages (from scikit-image->efficientnet) (3.1)\n",
      "Requirement already satisfied: lazy_loader>=0.2 in /usr/local/lib/python3.8/dist-packages (from scikit-image->efficientnet) (0.3)\n",
      "Requirement already satisfied: imageio>=2.27 in /usr/local/lib/python3.8/dist-packages (from scikit-image->efficientnet) (2.33.0)\n",
      "Requirement already satisfied: PyWavelets>=1.1.1 in /usr/local/lib/python3.8/dist-packages (from scikit-image->efficientnet) (1.4.1)\n",
      "\u001b[33mWARNING: You are using pip version 20.2.4; however, version 23.3.1 is available.\n",
      "You should consider upgrading via the '/usr/bin/python3 -m pip install --upgrade pip' command.\u001b[0m\n",
      "Note: you may need to restart the kernel to use updated packages.\n"
     ]
    }
   ],
   "source": [
    "%pip install tensorflow_addons keras-tuner pandas matplotlib seaborn scikit-learn tqdm efficientnet"
   ]
  },
  {
   "cell_type": "markdown",
   "metadata": {},
   "source": [
    "### Other Imports"
   ]
  },
  {
   "cell_type": "code",
   "execution_count": 3,
   "metadata": {},
   "outputs": [],
   "source": [
    "import numpy as np\n",
    "import pandas as pd\n",
    "\n",
    "import seaborn as sns\n",
    "\n",
    "from matplotlib import pyplot as plt\n",
    "\n",
    "from sklearn.metrics import classification_report, roc_auc_score, average_precision_score, confusion_matrix, cohen_kappa_score, matthews_corrcoef\n",
    "from sklearn.metrics import classification_report,accuracy_score, confusion_matrix\n",
    "from sklearn.decomposition import PCA\n",
    "from sklearn.preprocessing import Normalizer\n",
    "from sklearn.metrics import classification_report, accuracy_score\n",
    "\n",
    "import os, time, math, datetime, warnings, pytz, glob\n",
    "from IPython.display import display\n",
    "from functools import reduce\n",
    "import absl.logging\n",
    "from tqdm import tqdm\n",
    "import logging\n",
    "from efficientnet.tfkeras import EfficientNetB3\n",
    "\n",
    "absl.logging.set_verbosity(absl.logging.ERROR)\n",
    "logging.getLogger('tensorflow').disabled = True\n",
    "warnings.filterwarnings('ignore')"
   ]
  },
  {
   "cell_type": "markdown",
   "metadata": {},
   "source": [
    "### Tensorflow Import"
   ]
  },
  {
   "cell_type": "code",
   "execution_count": 4,
   "metadata": {},
   "outputs": [],
   "source": [
    "import tensorflow as tf\n",
    "from tensorflow.keras.utils import Sequence, to_categorical\n",
    "from tensorflow import expand_dims\n",
    "from tensorflow.keras import Sequential\n",
    "from tensorflow.keras import layers as L\n",
    "from tensorflow.keras import backend as K\n",
    "from tensorflow.image import random_flip_left_right, random_crop, resize_with_crop_or_pad\n",
    "from tensorflow.keras.utils import to_categorical, plot_model\n",
    "from tensorflow.keras.models import Model, load_model\n",
    "from tensorflow.keras.layers import (Dense, Input, InputLayer, Normalization, Flatten,BatchNormalization,\n",
    "    Dropout,Conv2D, GlobalAveragePooling2D, MaxPooling2D, ReLU, Layer,Activation, Multiply, AveragePooling2D,\n",
    "    Add, RandomRotation,Resizing, Rescaling, Reshape, Concatenate, concatenate, Lambda,LeakyReLU, ZeroPadding2D)\n",
    "from tensorflow.keras.callbacks import EarlyStopping, ModelCheckpoint, LearningRateScheduler, ReduceLROnPlateau, TerminateOnNaN, TensorBoard, CSVLogger, Callback\n",
    "from tensorflow.keras.backend import clear_session\n",
    "from tensorflow.keras.optimizers import RMSprop, SGD, Adam, Adagrad, Adamax\n",
    "from tensorflow.keras.regularizers import l2, L2\n",
    "from tensorflow.keras.optimizers.schedules import *\n",
    "from tensorflow.keras.metrics import FalseNegatives, categorical_crossentropy, sparse_categorical_crossentropy\n",
    "from tensorflow.keras.losses import CategoricalCrossentropy\n",
    "from tensorflow.keras.preprocessing.image import ImageDataGenerator\n",
    "from tensorflow.image import *\n",
    "from tensorflow_addons.optimizers import SWA\n",
    "from tensorflow.keras import layers\n",
    "\n",
    "from kerastuner.tuners import Hyperband\n",
    "from kerastuner import RandomSearch\n",
    "from kerastuner import HyperModel\n",
    "# Setting a seaborn style\n",
    "sns.set(style=\"whitegrid\")\n"
   ]
  },
  {
   "cell_type": "markdown",
   "metadata": {},
   "source": [
    "### Set the seed of this notebook"
   ]
  },
  {
   "cell_type": "code",
   "execution_count": 5,
   "metadata": {},
   "outputs": [],
   "source": [
    "seed = 32\n",
    "tf.random.set_seed(seed)\n",
    "np.random.seed(seed)"
   ]
  },
  {
   "cell_type": "markdown",
   "metadata": {},
   "source": [
    "<a class=\"anchor\" id=\"3\"></a>\n",
    "## <font color='#71a1e3'>__Check for GPU__</font>\n",
    "<hr style=\"height:1.5px;border-width:0;background-color: #4c8c77\">\n",
    "\n",
    "Here is check the available GPUs and set the memory growth"
   ]
  },
  {
   "cell_type": "code",
   "execution_count": 6,
   "metadata": {},
   "outputs": [
    {
     "name": "stdout",
     "output_type": "stream",
     "text": [
      "1 Physical GPUs, 1 Logical GPU\n"
     ]
    }
   ],
   "source": [
    "gpus = tf.config.experimental.list_physical_devices('GPU')\n",
    "if gpus:\n",
    "    try:\n",
    "        for gpu in gpus:\n",
    "            tf.config.experimental.set_memory_growth(gpu, True)\n",
    "\n",
    "        logical_gpus = tf.config.experimental.list_logical_devices('GPU')\n",
    "        print(f\"{len(gpus)} Physical GPUs, {len(logical_gpus)} Logical GPU\")\n",
    "    except RuntimeError as e:\n",
    "        print(e)"
   ]
  },
  {
   "cell_type": "code",
   "execution_count": 7,
   "metadata": {},
   "outputs": [
    {
     "name": "stdout",
     "output_type": "stream",
     "text": [
      "Sun Nov 26 08:23:20 2023       \n",
      "+---------------------------------------------------------------------------------------+\n",
      "| NVIDIA-SMI 535.129.03             Driver Version: 535.129.03   CUDA Version: 12.2     |\n",
      "|-----------------------------------------+----------------------+----------------------+\n",
      "| GPU  Name                 Persistence-M | Bus-Id        Disp.A | Volatile Uncorr. ECC |\n",
      "| Fan  Temp   Perf          Pwr:Usage/Cap |         Memory-Usage | GPU-Util  Compute M. |\n",
      "|                                         |                      |               MIG M. |\n",
      "|=========================================+======================+======================|\n",
      "|   0  NVIDIA GeForce RTX 4090        On  | 00000000:03:00.0 Off |                  Off |\n",
      "|  0%   43C    P2              54W / 450W |    575MiB / 24564MiB |      0%      Default |\n",
      "|                                         |                      |                  N/A |\n",
      "+-----------------------------------------+----------------------+----------------------+\n",
      "                                                                                         \n",
      "+---------------------------------------------------------------------------------------+\n",
      "| Processes:                                                                            |\n",
      "|  GPU   GI   CI        PID   Type   Process name                            GPU Memory |\n",
      "|        ID   ID                                                             Usage      |\n",
      "|=======================================================================================|\n",
      "+---------------------------------------------------------------------------------------+\n"
     ]
    }
   ],
   "source": [
    "!nvidia-smi"
   ]
  },
  {
   "cell_type": "markdown",
   "metadata": {},
   "source": [
    "<a class=\"anchor\" id=\"4\"></a>\n",
    "## <font color='#71a1e3'>__Import dataset__</font>\n",
    "<hr style=\"height:1.5px;border-width:0;background-color: #4c8c77\">\n",
    "\n",
    "Here is to import the dataset and proceed to do analysis on it"
   ]
  },
  {
   "cell_type": "markdown",
   "metadata": {},
   "source": [
    "### 31 x 31 Images"
   ]
  },
  {
   "cell_type": "markdown",
   "metadata": {},
   "source": [
    "#### Train Data"
   ]
  },
  {
   "cell_type": "code",
   "execution_count": 8,
   "metadata": {},
   "outputs": [
    {
     "name": "stdout",
     "output_type": "stream",
     "text": [
      "Found 9028 files belonging to 15 classes.\n"
     ]
    },
    {
     "data": {
      "text/plain": [
       "<BatchDataset element_spec=(TensorSpec(shape=(None, 31, 31, 3), dtype=tf.float32, name=None), TensorSpec(shape=(None,), dtype=tf.int32, name=None))>"
      ]
     },
     "execution_count": 8,
     "metadata": {},
     "output_type": "execute_result"
    }
   ],
   "source": [
    "data_small = tf.keras.utils.image_dataset_from_directory('Dataset for CA1 part A/train'  ,\n",
    "                                                   color_mode='rgb',\n",
    "                                                   image_size=(31,31))\n",
    "data_small"
   ]
  },
  {
   "cell_type": "code",
   "execution_count": 9,
   "metadata": {},
   "outputs": [
    {
     "name": "stderr",
     "output_type": "stream",
     "text": [
      "100%|██████████| 283/283 [00:01<00:00, 204.25it/s]\n"
     ]
    }
   ],
   "source": [
    "X_train_small = []\n",
    "y_train_small = []\n",
    "\n",
    "for images, labels in tqdm(data_small):\n",
    "    images = tf.image.rgb_to_grayscale(images)\n",
    "    X_train_small.append(images)\n",
    "    y_train_small.append(labels)\n",
    "\n",
    "X_train_small = np.concatenate(X_train_small, axis=0)\n",
    "X_train_small = np.squeeze(X_train_small, axis=-1)\n",
    "y_train_small = np.concatenate(y_train_small, axis=0)"
   ]
  },
  {
   "cell_type": "markdown",
   "metadata": {},
   "source": [
    "#### Validation Data"
   ]
  },
  {
   "cell_type": "code",
   "execution_count": 10,
   "metadata": {},
   "outputs": [
    {
     "name": "stdout",
     "output_type": "stream",
     "text": [
      "Found 3000 files belonging to 15 classes.\n"
     ]
    },
    {
     "data": {
      "text/plain": [
       "<BatchDataset element_spec=(TensorSpec(shape=(None, 31, 31, 3), dtype=tf.float32, name=None), TensorSpec(shape=(None,), dtype=tf.int32, name=None))>"
      ]
     },
     "execution_count": 10,
     "metadata": {},
     "output_type": "execute_result"
    }
   ],
   "source": [
    "val_data_small = tf.keras.utils.image_dataset_from_directory('Dataset for CA1 part A/validation'  ,\n",
    "                                                   color_mode='rgb',\n",
    "                                                   image_size=(31,31))\n",
    "val_data_small"
   ]
  },
  {
   "cell_type": "code",
   "execution_count": 11,
   "metadata": {},
   "outputs": [
    {
     "name": "stderr",
     "output_type": "stream",
     "text": [
      "100%|██████████| 94/94 [00:00<00:00, 394.27it/s]\n"
     ]
    }
   ],
   "source": [
    "X_val_small = []\n",
    "y_val_small = []\n",
    "\n",
    "for images, labels in tqdm(val_data_small):\n",
    "    images = tf.image.rgb_to_grayscale(images)\n",
    "    X_val_small.append(images)\n",
    "    y_val_small.append(labels)\n",
    "\n",
    "X_val_small = np.concatenate(X_val_small, axis=0)\n",
    "X_val_small = np.squeeze(X_val_small, axis=-1)\n",
    "y_val_small = np.concatenate(y_val_small, axis=0)"
   ]
  },
  {
   "cell_type": "markdown",
   "metadata": {},
   "source": [
    "#### Test Data"
   ]
  },
  {
   "cell_type": "code",
   "execution_count": 12,
   "metadata": {},
   "outputs": [
    {
     "name": "stdout",
     "output_type": "stream",
     "text": [
      "Found 3000 files belonging to 15 classes.\n"
     ]
    },
    {
     "data": {
      "text/plain": [
       "<BatchDataset element_spec=(TensorSpec(shape=(None, 31, 31, 3), dtype=tf.float32, name=None), TensorSpec(shape=(None,), dtype=tf.int32, name=None))>"
      ]
     },
     "execution_count": 12,
     "metadata": {},
     "output_type": "execute_result"
    }
   ],
   "source": [
    "test_data_small = tf.keras.utils.image_dataset_from_directory('Dataset for CA1 part A/test'  ,\n",
    "                                                   color_mode='rgb',\n",
    "                                                   image_size=(31,31))\n",
    "test_data_small"
   ]
  },
  {
   "cell_type": "code",
   "execution_count": 13,
   "metadata": {},
   "outputs": [
    {
     "name": "stderr",
     "output_type": "stream",
     "text": [
      "100%|██████████| 94/94 [00:00<00:00, 396.95it/s]\n"
     ]
    }
   ],
   "source": [
    "X_test_small = []\n",
    "y_test_small = []\n",
    "\n",
    "for images, labels in tqdm(test_data_small):\n",
    "    images = tf.image.rgb_to_grayscale(images)\n",
    "    X_test_small.append(images)\n",
    "    y_test_small.append(labels)\n",
    "\n",
    "X_test_small = np.concatenate(X_test_small, axis=0)\n",
    "X_test_small = np.squeeze(X_test_small, axis=-1)\n",
    "y_test_small = np.concatenate(y_test_small, axis=0)"
   ]
  },
  {
   "cell_type": "code",
   "execution_count": 14,
   "metadata": {},
   "outputs": [],
   "source": [
    "y_train_small = to_categorical(y_train_small)\n",
    "y_val_small = to_categorical(y_val_small)"
   ]
  },
  {
   "cell_type": "code",
   "execution_count": 15,
   "metadata": {},
   "outputs": [
    {
     "name": "stdout",
     "output_type": "stream",
     "text": [
      "{0: 'Bean', 1: 'Bitter_Gourd', 2: 'Bottle_Gourd', 3: 'Brinjal', 4: 'Broccoli', 5: 'Cabbage', 6: 'Capsicum', 7: 'Carrot', 8: 'Cauliflower', 9: 'Cucumber', 10: 'Papaya', 11: 'Potato', 12: 'Pumpkin', 13: 'Radish', 14: 'Tomato'}\n"
     ]
    }
   ],
   "source": [
    "labels_dict = os.listdir('Dataset for CA1 part A/train')\n",
    "labels_dict = {idx: label for idx, label in enumerate(labels_dict)}\n",
    "print(labels_dict)"
   ]
  },
  {
   "cell_type": "markdown",
   "metadata": {},
   "source": [
    "<a class=\"anchor\" id=\"4\"></a>\n",
    "## <font color='#71a1e3'>__Required Functions__</font>\n",
    "<hr style=\"height:1.5px;border-width:0;background-color: #4c8c77\">\n",
    "\n",
    "Here is to set the required functions"
   ]
  },
  {
   "cell_type": "code",
   "execution_count": 16,
   "metadata": {},
   "outputs": [],
   "source": [
    "def preprocess_data(image, label):\n",
    "  image = tf.expand_dims(image, -1)\n",
    "  return image, label\n",
    "\n",
    "def sample_beta_distribution(size, concentration_0=300, concentration_1=0.1):\n",
    "  gamma_1_sample = tf.random.gamma(shape=[size], alpha=concentration_1)\n",
    "  gamma_2_sample = tf.random.gamma(shape=[size], alpha=concentration_0)\n",
    "  return gamma_1_sample / (gamma_1_sample + gamma_2_sample)\n",
    "\n",
    "\n",
    "@tf.function\n",
    "def get_box(lambda_value):\n",
    "  cut_rat = tf.math.sqrt(1.0 - lambda_value)\n",
    "  image_wh = (31,31,1)[0]\n",
    "  cut_wh = image_wh * cut_rat  # rw\n",
    "  cut_wh = tf.cast(cut_wh, tf.int32)\n",
    "\n",
    "  cut_x = tf.random.uniform((1,), minval=0, maxval=image_wh, dtype=tf.int32)  # rx\n",
    "  cut_y = tf.random.uniform((1,), minval=0, maxval=image_wh, dtype=tf.int32)  # ry\n",
    "\n",
    "  boundaryx1 = tf.clip_by_value(cut_x[0] - cut_wh // 2, 0, image_wh)\n",
    "  boundaryy1 = tf.clip_by_value(cut_y[0] - cut_wh // 2, 0, image_wh)\n",
    "  bbx2 = tf.clip_by_value(cut_x[0] + cut_wh // 2, 0, image_wh)\n",
    "  bby2 = tf.clip_by_value(cut_y[0] + cut_wh // 2, 0, image_wh)\n",
    "\n",
    "  target_h = bby2 - boundaryy1\n",
    "  if target_h == 0:\n",
    "      target_h += 1\n",
    "\n",
    "  target_w = bbx2 - boundaryx1\n",
    "  if target_w == 0:\n",
    "      target_w += 1\n",
    "\n",
    "  return boundaryx1, boundaryy1, target_h, target_w\n",
    "\n",
    "\n",
    "@tf.function\n",
    "def cutmix(train_ds_one, train_ds_two):\n",
    "  (image1, label1), (image2, label2) = train_ds_one, train_ds_two\n",
    "  image_size = (31,31,1)[0]\n",
    "  alpha = [1]\n",
    "  beta = [1]\n",
    "  lambda_value = sample_beta_distribution(1, alpha, beta)\n",
    "  lambda_value = lambda_value[0][0]\n",
    "  boundaryx1, boundaryy1, target_h, target_w = get_box(lambda_value)\n",
    "  crop2 = tf.image.crop_to_bounding_box(\n",
    "      image2, boundaryy1, boundaryx1, target_h, target_w\n",
    "  )\n",
    "  image2 = tf.image.pad_to_bounding_box(\n",
    "      crop2, boundaryy1, boundaryx1, image_size, image_size\n",
    "  )\n",
    "  crop1 = tf.image.crop_to_bounding_box(\n",
    "      image1, boundaryy1, boundaryx1, target_h, target_w\n",
    "  )\n",
    "  img1 = tf.image.pad_to_bounding_box(\n",
    "      crop1, boundaryy1, boundaryx1, image_size, image_size\n",
    "  )\n",
    "\n",
    "  image1 = image1 - img1\n",
    "  image = image1 + image2\n",
    "  lambda_value = 1 - (target_w * target_h) / (image_size * image_size)\n",
    "  lambda_value = tf.cast(lambda_value, tf.float32)\n",
    "  label = lambda_value * label1 + (1 - lambda_value) * label2\n",
    "  return image, label"
   ]
  },
  {
   "cell_type": "code",
   "execution_count": 17,
   "metadata": {},
   "outputs": [
    {
     "data": {
      "text/plain": [
       "<PrefetchDataset element_spec=(TensorSpec(shape=(None, 31, 31, 1), dtype=tf.float32, name=None), TensorSpec(shape=(None, 15), dtype=tf.float32, name=None))>"
      ]
     },
     "execution_count": 17,
     "metadata": {},
     "output_type": "execute_result"
    }
   ],
   "source": [
    "train_ds_one = tf.data.Dataset.from_tensor_slices((X_train_small, y_train_small)).shuffle(2048).map(preprocess_data, num_parallel_calls=tf.data.AUTOTUNE)\n",
    "train_ds_two = tf.data.Dataset.from_tensor_slices((X_train_small, y_train_small)).shuffle(2048).map(preprocess_data, num_parallel_calls=tf.data.AUTOTUNE)\n",
    "\n",
    "val_ds_cutmix = tf.data.Dataset.from_tensor_slices((X_val_small, y_val_small))\n",
    "val_ds_cutmix = val_ds_cutmix.map(preprocess_data, num_parallel_calls=tf.data.AUTOTUNE).batch(128).prefetch(tf.data.AUTOTUNE)\n",
    "\n",
    "train_ds_cutmix = tf.data.Dataset.zip((train_ds_one, train_ds_two))\n",
    "train_ds_cutmix = (\n",
    "    train_ds_cutmix.shuffle(1024)\n",
    "    .map(cutmix, num_parallel_calls=tf.data.AUTOTUNE)\n",
    "    .batch(128)\n",
    "    .prefetch(tf.data.AUTOTUNE)\n",
    ")\n",
    "train_ds_cutmix"
   ]
  },
  {
   "cell_type": "markdown",
   "metadata": {},
   "source": [
    "<a class=\"anchor\" id=\"1\"></a>\n",
    "## <font color='#71a1e3'> __Hyperparameter Tuning__</font>\n",
    "<hr style=\"height:1.5px;border-width:0;background-color: #4c8c77\">\n",
    "\n",
    "Here we will do the hyperparamter tuning on the CNN model created"
   ]
  },
  {
   "cell_type": "markdown",
   "metadata": {},
   "source": [
    "### CNN Model 1\n",
    "\n",
    "- Hypertune the "
   ]
  },
  {
   "cell_type": "code",
   "execution_count": 18,
   "metadata": {},
   "outputs": [
    {
     "data": {
      "text/plain": [
       "(9028, 15)"
      ]
     },
     "execution_count": 18,
     "metadata": {},
     "output_type": "execute_result"
    }
   ],
   "source": [
    "y_train_small.shape"
   ]
  },
  {
   "cell_type": "code",
   "execution_count": 19,
   "metadata": {},
   "outputs": [
    {
     "name": "stdout",
     "output_type": "stream",
     "text": [
      "Trial 10 Complete [00h 00m 58s]\n",
      "val_accuracy: 0.9300000071525574\n",
      "\n",
      "Best val_accuracy So Far: 0.9300000071525574\n",
      "Total elapsed time: 00h 21m 19s\n"
     ]
    }
   ],
   "source": [
    "def build_model(hp):\n",
    "    K.clear_session() \n",
    "    \n",
    "    model = Sequential(name=hp.Choice('model_name', ['CNN_Baseline_LR']))\n",
    "\n",
    "    # First Convolutional Block\n",
    "    model.add(Conv2D(hp.Int('conv_1_filters', min_value=32, max_value=128, step=32),\n",
    "                     (hp.Choice('conv_1_kernel', [3, 5])),\n",
    "                     padding='same',\n",
    "                     activation='relu',\n",
    "                     input_shape=(31, 31, 1),\n",
    "                     kernel_regularizer=l2(hp.Float('conv_1_l2', min_value=1e-4, max_value=1e-2, sampling='log'))))\n",
    "    model.add(BatchNormalization())\n",
    "    model.add(MaxPooling2D(pool_size=(2, 2)))\n",
    "    model.add(Dropout(hp.Float('dropout_1', min_value=0.1, max_value=0.5, step=0.1)))\n",
    "    \n",
    "    # Second Convolutional Block\n",
    "    model.add(Conv2D(hp.Int('conv_2_filters', min_value=64, max_value=256, step=64),\n",
    "                     (hp.Choice('conv_2_kernel', [3, 5])),\n",
    "                     padding='same',\n",
    "                     activation='relu',\n",
    "                     kernel_regularizer=l2(hp.Float('conv_2_l2', min_value=1e-4, max_value=1e-2, sampling='log'))))\n",
    "    model.add(BatchNormalization())\n",
    "    model.add(MaxPooling2D(pool_size=(2, 2)))\n",
    "    model.add(Dropout(hp.Float('dropout_2', min_value=0.1, max_value=0.5, step=0.1)))\n",
    "    \n",
    "    model.add(Flatten())\n",
    "\n",
    "    # Dense Block\n",
    "    model.add(Dense(hp.Int('dense_1_units', min_value=128, max_value=1024, step=128),\n",
    "                    activation='relu',\n",
    "                    kernel_regularizer=l2(hp.Float('dense_1_l2', min_value=1e-4, max_value=1e-2, sampling='log'))))\n",
    "    model.add(Dropout(hp.Float('dropout_3', min_value=0.1, max_value=0.5, step=0.1)))\n",
    "\n",
    "    # Output Layer\n",
    "    model.add(Dense(15, activation='softmax'))\n",
    "    # Compile the model\n",
    "    model.compile(optimizer=Adam(hp.Float('learning_rate', min_value=1e-4, max_value=1e-2, sampling='log')),\n",
    "                  loss='categorical_crossentropy',\n",
    "                  metrics=['accuracy'])\n",
    "\n",
    "    return model\n",
    "\n",
    "# Initialize the Random Search tuner\n",
    "tuner = RandomSearch(\n",
    "    build_model,\n",
    "    objective='val_accuracy',\n",
    "    max_trials=10,\n",
    "    executions_per_trial=1,\n",
    "    directory='randomsearch1',\n",
    "    project_name='randomsearch_cnn'\n",
    ")\n",
    "\n",
    "tuner.search(train_ds_cutmix, epochs=80, validation_data=val_ds_cutmix)\n"
   ]
  },
  {
   "cell_type": "markdown",
   "metadata": {},
   "source": [
    "### CNN Model 2 (Hyperparameter Tuning)"
   ]
  },
  {
   "cell_type": "code",
   "execution_count": 86,
   "metadata": {},
   "outputs": [],
   "source": [
    "def build_cnn2_model(hp):\n",
    "    model = Sequential(name='CNN2_Baseline')\n",
    "\n",
    "    # First Convolutional Layer with optional regularizer\n",
    "    model.add(Conv2D(\n",
    "        filters=hp.Int('filters_1', min_value=32, max_value=128, step=32),\n",
    "        kernel_size=(3, 3),\n",
    "        padding='same',\n",
    "        input_shape=(31,31,1),\n",
    "        kernel_regularizer=None if hp.Choice('use_l2_reg_1', [True, False]) == False else l2(hp.Float('l2_reg_1', min_value=1e-5, max_value=1e-2, sampling='LOG'))\n",
    "    ))\n",
    "    model.add(BatchNormalization())\n",
    "    model.add(ReLU())\n",
    "\n",
    "    # Additional Convolutional Layers with optional regularizers\n",
    "    for i in range(hp.Int('num_conv_layers', 2, 5)):\n",
    "        model.add(Conv2D(\n",
    "            filters=hp.Int(f'filters_{i+2}', min_value=32, max_value=128, step=32),\n",
    "            kernel_size=(3, 3),\n",
    "            padding='same',\n",
    "            kernel_regularizer=None if hp.Choice(f'use_l2_reg_{i+2}', [True, False]) == False else l2(hp.Float(f'l2_reg_{i+2}', min_value=1e-5, max_value=1e-2, sampling='LOG'))\n",
    "        ))\n",
    "        model.add(BatchNormalization())\n",
    "        model.add(ReLU())\n",
    "\n",
    "    model.add(GlobalAveragePooling2D())\n",
    "    model.add(Dense(\n",
    "        units=hp.Int('units', min_value=64, max_value=256, step=32),\n",
    "        activation='relu',\n",
    "        kernel_regularizer=None if hp.Choice('use_l2_reg_dense', [True, False]) == False else l2(hp.Float('l2_reg_dense', min_value=1e-5, max_value=1e-2, sampling='LOG'))\n",
    "    ))\n",
    "    model.add(Dropout(hp.Float('dropout', min_value=0, max_value=0.5, step=0.1)))\n",
    "    model.add(Dense(15, activation='softmax'))\n",
    "    optimizer_name = hp.Choice('optimizer', ['adam', 'sgd', 'rmsprop'])\n",
    "    \n",
    "    # Setting optimizer parameters\n",
    "    if optimizer_name == 'adam':\n",
    "        optimizer = Adam(\n",
    "            learning_rate=hp.Float('adam_lr', min_value=1e-4, max_value=1e-2, sampling='LOG'))\n",
    "    elif optimizer_name == 'sgd':\n",
    "        optimizer = SGD(\n",
    "            learning_rate=hp.Float('sgd_lr', min_value=1e-4, max_value=1e-2, sampling='LOG'),\n",
    "            momentum=hp.Float('sgd_momentum', min_value=0.0, max_value=0.9, step=0.1))\n",
    "    elif optimizer_name == 'rmsprop':\n",
    "        optimizer = RMSprop(\n",
    "            learning_rate=hp.Float('rmsprop_lr', min_value=1e-4, max_value=1e-2, sampling='LOG'))\n",
    "\n",
    "    model.compile(\n",
    "        optimizer=optimizer,\n",
    "        loss='categorical_crossentropy',\n",
    "        metrics=['accuracy']\n",
    "    )\n",
    "\n",
    "    return model"
   ]
  },
  {
   "cell_type": "code",
   "execution_count": 88,
   "metadata": {},
   "outputs": [
    {
     "name": "stdout",
     "output_type": "stream",
     "text": [
      "Trial 15 Complete [00h 01m 22s]\n",
      "val_accuracy: 0.2863333225250244\n",
      "\n",
      "Best val_accuracy So Far: 0.9473333358764648\n",
      "Total elapsed time: 00h 16m 37s\n"
     ]
    }
   ],
   "source": [
    "# Initialize the Random Search tuner\n",
    "tuner = RandomSearch(\n",
    "    build_cnn2_model,\n",
    "    objective='val_accuracy',\n",
    "    max_trials=15,\n",
    "    executions_per_trial=1,\n",
    "    directory='randomsearch2.5',\n",
    "    project_name='randomsearch_cnn'\n",
    ")\n",
    "\n",
    "\n",
    "tuner.search(train_ds_cutmix, epochs=80, validation_data=val_ds_cutmix, callbacks = [EarlyStopping(monitor='accuracy', patience=10, restore_best_weights=True), ReduceLROnPlateau(patience=5)])\n"
   ]
  },
  {
   "cell_type": "markdown",
   "metadata": {},
   "source": [
    "#### Getting the best model"
   ]
  },
  {
   "cell_type": "code",
   "execution_count": 73,
   "metadata": {},
   "outputs": [
    {
     "name": "stdout",
     "output_type": "stream",
     "text": [
      "Model: \"CNN2_Baseline\"\n",
      "_________________________________________________________________\n",
      " Layer (type)                Output Shape              Param #   \n",
      "=================================================================\n",
      " conv2d_5 (Conv2D)           (None, 31, 31, 32)        320       \n",
      "                                                                 \n",
      " batch_normalization_5 (Batc  (None, 31, 31, 32)       128       \n",
      " hNormalization)                                                 \n",
      "                                                                 \n",
      " re_lu_5 (ReLU)              (None, 31, 31, 32)        0         \n",
      "                                                                 \n",
      " conv2d_6 (Conv2D)           (None, 31, 31, 96)        27744     \n",
      "                                                                 \n",
      " batch_normalization_6 (Batc  (None, 31, 31, 96)       384       \n",
      " hNormalization)                                                 \n",
      "                                                                 \n",
      " re_lu_6 (ReLU)              (None, 31, 31, 96)        0         \n",
      "                                                                 \n",
      " conv2d_7 (Conv2D)           (None, 31, 31, 64)        55360     \n",
      "                                                                 \n",
      " batch_normalization_7 (Batc  (None, 31, 31, 64)       256       \n",
      " hNormalization)                                                 \n",
      "                                                                 \n",
      " re_lu_7 (ReLU)              (None, 31, 31, 64)        0         \n",
      "                                                                 \n",
      " conv2d_8 (Conv2D)           (None, 31, 31, 128)       73856     \n",
      "                                                                 \n",
      " batch_normalization_8 (Batc  (None, 31, 31, 128)      512       \n",
      " hNormalization)                                                 \n",
      "                                                                 \n",
      " re_lu_8 (ReLU)              (None, 31, 31, 128)       0         \n",
      "                                                                 \n",
      " conv2d_9 (Conv2D)           (None, 31, 31, 128)       147584    \n",
      "                                                                 \n",
      " batch_normalization_9 (Batc  (None, 31, 31, 128)      512       \n",
      " hNormalization)                                                 \n",
      "                                                                 \n",
      " re_lu_9 (ReLU)              (None, 31, 31, 128)       0         \n",
      "                                                                 \n",
      " global_average_pooling2d_1   (None, 128)              0         \n",
      " (GlobalAveragePooling2D)                                        \n",
      "                                                                 \n",
      " dense_2 (Dense)             (None, 256)               33024     \n",
      "                                                                 \n",
      " dropout_1 (Dropout)         (None, 256)               0         \n",
      "                                                                 \n",
      " dense_3 (Dense)             (None, 15)                3855      \n",
      "                                                                 \n",
      "=================================================================\n",
      "Total params: 343,535\n",
      "Trainable params: 342,639\n",
      "Non-trainable params: 896\n",
      "_________________________________________________________________\n"
     ]
    }
   ],
   "source": [
    "best_model.summary()"
   ]
  },
  {
   "cell_type": "code",
   "execution_count": 85,
   "metadata": {},
   "outputs": [
    {
     "name": "stdout",
     "output_type": "stream",
     "text": [
      "Epoch 1/100\n",
      "70/70 [==============================] - 3s 22ms/step - loss: 2.6013 - accuracy: 0.2736 - val_loss: 24.0281 - val_accuracy: 0.0667 - lr: 0.0037\n",
      "Epoch 2/100\n",
      "70/70 [==============================] - 1s 17ms/step - loss: 2.1662 - accuracy: 0.3858 - val_loss: 7.0021 - val_accuracy: 0.0850 - lr: 0.0037\n",
      "Epoch 3/100\n",
      "70/70 [==============================] - 1s 17ms/step - loss: 2.0328 - accuracy: 0.4474 - val_loss: 4.9553 - val_accuracy: 0.1380 - lr: 0.0037\n",
      "Epoch 4/100\n",
      "70/70 [==============================] - 1s 17ms/step - loss: 1.9619 - accuracy: 0.4766 - val_loss: 3.4952 - val_accuracy: 0.2380 - lr: 0.0037\n",
      "Epoch 5/100\n",
      "70/70 [==============================] - 1s 17ms/step - loss: 1.8600 - accuracy: 0.5392 - val_loss: 5.5750 - val_accuracy: 0.1733 - lr: 0.0037\n",
      "Epoch 6/100\n",
      "70/70 [==============================] - 1s 17ms/step - loss: 1.7727 - accuracy: 0.5735 - val_loss: 3.3633 - val_accuracy: 0.2110 - lr: 0.0037\n",
      "Epoch 7/100\n",
      "70/70 [==============================] - 1s 17ms/step - loss: 1.7228 - accuracy: 0.5949 - val_loss: 4.0634 - val_accuracy: 0.1783 - lr: 0.0037\n",
      "Epoch 8/100\n",
      "70/70 [==============================] - 1s 17ms/step - loss: 1.6471 - accuracy: 0.6320 - val_loss: 3.7453 - val_accuracy: 0.2303 - lr: 0.0037\n",
      "Epoch 9/100\n",
      "70/70 [==============================] - 1s 17ms/step - loss: 1.6276 - accuracy: 0.6385 - val_loss: 2.4922 - val_accuracy: 0.3700 - lr: 0.0037\n",
      "Epoch 10/100\n",
      "70/70 [==============================] - 1s 17ms/step - loss: 1.5909 - accuracy: 0.6549 - val_loss: 5.2222 - val_accuracy: 0.1413 - lr: 0.0037\n",
      "Epoch 11/100\n",
      "70/70 [==============================] - 1s 17ms/step - loss: 1.5624 - accuracy: 0.6742 - val_loss: 2.0528 - val_accuracy: 0.4303 - lr: 0.0037\n",
      "Epoch 12/100\n",
      "70/70 [==============================] - 1s 17ms/step - loss: 1.5178 - accuracy: 0.6899 - val_loss: 3.5498 - val_accuracy: 0.2973 - lr: 0.0037\n",
      "Epoch 13/100\n",
      "70/70 [==============================] - 1s 17ms/step - loss: 1.4932 - accuracy: 0.7056 - val_loss: 2.6910 - val_accuracy: 0.3357 - lr: 0.0037\n",
      "Epoch 14/100\n",
      "70/70 [==============================] - 1s 17ms/step - loss: 1.4674 - accuracy: 0.7158 - val_loss: 2.1745 - val_accuracy: 0.4693 - lr: 0.0037\n",
      "Epoch 15/100\n",
      "70/70 [==============================] - 1s 17ms/step - loss: 1.4474 - accuracy: 0.7210 - val_loss: 1.2854 - val_accuracy: 0.6517 - lr: 0.0037\n",
      "Epoch 16/100\n",
      "70/70 [==============================] - 1s 17ms/step - loss: 1.4193 - accuracy: 0.7350 - val_loss: 3.2798 - val_accuracy: 0.3103 - lr: 0.0037\n",
      "Epoch 17/100\n",
      "70/70 [==============================] - 1s 17ms/step - loss: 1.4093 - accuracy: 0.7406 - val_loss: 1.8092 - val_accuracy: 0.5383 - lr: 0.0037\n",
      "Epoch 18/100\n",
      "70/70 [==============================] - 1s 17ms/step - loss: 1.4022 - accuracy: 0.7366 - val_loss: 2.0288 - val_accuracy: 0.4703 - lr: 0.0037\n",
      "Epoch 19/100\n",
      "70/70 [==============================] - 1s 17ms/step - loss: 1.3794 - accuracy: 0.7470 - val_loss: 2.2144 - val_accuracy: 0.4333 - lr: 0.0037\n",
      "Epoch 20/100\n",
      "70/70 [==============================] - 1s 17ms/step - loss: 1.3371 - accuracy: 0.7670 - val_loss: 1.9550 - val_accuracy: 0.4647 - lr: 0.0037\n",
      "Epoch 21/100\n",
      "70/70 [==============================] - 1s 17ms/step - loss: 1.2313 - accuracy: 0.8042 - val_loss: 0.6815 - val_accuracy: 0.8533 - lr: 3.7318e-04\n",
      "Epoch 22/100\n",
      "70/70 [==============================] - 1s 17ms/step - loss: 1.1860 - accuracy: 0.8199 - val_loss: 0.4777 - val_accuracy: 0.9230 - lr: 3.7318e-04\n",
      "Epoch 23/100\n",
      "70/70 [==============================] - 1s 17ms/step - loss: 1.1707 - accuracy: 0.8285 - val_loss: 0.5495 - val_accuracy: 0.9023 - lr: 3.7318e-04\n",
      "Epoch 24/100\n",
      "70/70 [==============================] - 1s 17ms/step - loss: 1.1489 - accuracy: 0.8265 - val_loss: 0.4685 - val_accuracy: 0.9240 - lr: 3.7318e-04\n",
      "Epoch 25/100\n",
      "70/70 [==============================] - 1s 17ms/step - loss: 1.1518 - accuracy: 0.8326 - val_loss: 0.4381 - val_accuracy: 0.9340 - lr: 3.7318e-04\n",
      "Epoch 26/100\n",
      "70/70 [==============================] - 1s 17ms/step - loss: 1.1391 - accuracy: 0.8313 - val_loss: 0.4915 - val_accuracy: 0.9120 - lr: 3.7318e-04\n",
      "Epoch 27/100\n",
      "70/70 [==============================] - 1s 17ms/step - loss: 1.1284 - accuracy: 0.8305 - val_loss: 0.4755 - val_accuracy: 0.9213 - lr: 3.7318e-04\n",
      "Epoch 28/100\n",
      "70/70 [==============================] - 1s 17ms/step - loss: 1.1156 - accuracy: 0.8362 - val_loss: 0.5055 - val_accuracy: 0.9053 - lr: 3.7318e-04\n",
      "Epoch 29/100\n",
      "70/70 [==============================] - 1s 17ms/step - loss: 1.1220 - accuracy: 0.8343 - val_loss: 0.4411 - val_accuracy: 0.9320 - lr: 3.7318e-04\n",
      "Epoch 30/100\n",
      "70/70 [==============================] - 1s 17ms/step - loss: 1.1000 - accuracy: 0.8388 - val_loss: 0.7124 - val_accuracy: 0.8340 - lr: 3.7318e-04\n",
      "Epoch 31/100\n",
      "70/70 [==============================] - 1s 17ms/step - loss: 1.0917 - accuracy: 0.8428 - val_loss: 0.3516 - val_accuracy: 0.9587 - lr: 3.7318e-05\n",
      "Epoch 32/100\n",
      "70/70 [==============================] - 1s 17ms/step - loss: 1.0941 - accuracy: 0.8442 - val_loss: 0.3405 - val_accuracy: 0.9580 - lr: 3.7318e-05\n",
      "Epoch 33/100\n",
      "70/70 [==============================] - 1s 17ms/step - loss: 1.0838 - accuracy: 0.8438 - val_loss: 0.3375 - val_accuracy: 0.9587 - lr: 3.7318e-05\n",
      "Epoch 34/100\n",
      "70/70 [==============================] - 1s 17ms/step - loss: 1.0792 - accuracy: 0.8493 - val_loss: 0.3333 - val_accuracy: 0.9593 - lr: 3.7318e-05\n",
      "Epoch 35/100\n",
      "70/70 [==============================] - 1s 17ms/step - loss: 1.0811 - accuracy: 0.8429 - val_loss: 0.3339 - val_accuracy: 0.9580 - lr: 3.7318e-05\n",
      "Epoch 36/100\n",
      "70/70 [==============================] - 1s 17ms/step - loss: 1.0880 - accuracy: 0.8482 - val_loss: 0.3329 - val_accuracy: 0.9587 - lr: 3.7318e-05\n",
      "Epoch 37/100\n",
      "70/70 [==============================] - 1s 17ms/step - loss: 1.0746 - accuracy: 0.8487 - val_loss: 0.3278 - val_accuracy: 0.9603 - lr: 3.7318e-05\n",
      "Epoch 38/100\n",
      "70/70 [==============================] - 1s 17ms/step - loss: 1.0815 - accuracy: 0.8507 - val_loss: 0.3306 - val_accuracy: 0.9593 - lr: 3.7318e-05\n",
      "Epoch 39/100\n",
      "70/70 [==============================] - 1s 17ms/step - loss: 1.0701 - accuracy: 0.8478 - val_loss: 0.3262 - val_accuracy: 0.9610 - lr: 3.7318e-05\n",
      "Epoch 40/100\n",
      "70/70 [==============================] - 1s 17ms/step - loss: 1.0755 - accuracy: 0.8488 - val_loss: 0.3302 - val_accuracy: 0.9613 - lr: 3.7318e-05\n",
      "Epoch 41/100\n",
      "70/70 [==============================] - 1s 17ms/step - loss: 1.0775 - accuracy: 0.8422 - val_loss: 0.3255 - val_accuracy: 0.9603 - lr: 3.7318e-05\n",
      "Epoch 42/100\n",
      "70/70 [==============================] - 1s 17ms/step - loss: 1.0686 - accuracy: 0.8475 - val_loss: 0.3315 - val_accuracy: 0.9593 - lr: 3.7318e-05\n",
      "Epoch 43/100\n",
      "70/70 [==============================] - 1s 17ms/step - loss: 1.0664 - accuracy: 0.8482 - val_loss: 0.3268 - val_accuracy: 0.9600 - lr: 3.7318e-05\n",
      "Epoch 44/100\n",
      "70/70 [==============================] - 1s 17ms/step - loss: 1.0631 - accuracy: 0.8498 - val_loss: 0.3252 - val_accuracy: 0.9607 - lr: 3.7318e-05\n",
      "Epoch 45/100\n",
      "70/70 [==============================] - 1s 17ms/step - loss: 1.0636 - accuracy: 0.8582 - val_loss: 0.3212 - val_accuracy: 0.9620 - lr: 3.7318e-05\n",
      "Epoch 46/100\n",
      "70/70 [==============================] - 1s 17ms/step - loss: 1.0619 - accuracy: 0.8417 - val_loss: 0.3429 - val_accuracy: 0.9567 - lr: 3.7318e-05\n",
      "Epoch 47/100\n",
      "70/70 [==============================] - 1s 17ms/step - loss: 1.0618 - accuracy: 0.8460 - val_loss: 0.3264 - val_accuracy: 0.9617 - lr: 3.7318e-05\n",
      "Epoch 48/100\n",
      "70/70 [==============================] - 1s 17ms/step - loss: 1.0636 - accuracy: 0.8532 - val_loss: 0.3212 - val_accuracy: 0.9603 - lr: 3.7318e-05\n",
      "Epoch 49/100\n",
      "70/70 [==============================] - 1s 17ms/step - loss: 1.0672 - accuracy: 0.8479 - val_loss: 0.3233 - val_accuracy: 0.9623 - lr: 3.7318e-05\n",
      "Epoch 50/100\n",
      "70/70 [==============================] - 1s 17ms/step - loss: 1.0657 - accuracy: 0.8449 - val_loss: 0.3259 - val_accuracy: 0.9603 - lr: 3.7318e-05\n",
      "Epoch 51/100\n",
      "70/70 [==============================] - 1s 17ms/step - loss: 1.0616 - accuracy: 0.8554 - val_loss: 0.3198 - val_accuracy: 0.9617 - lr: 3.7318e-06\n",
      "Epoch 52/100\n",
      "70/70 [==============================] - 1s 17ms/step - loss: 1.0592 - accuracy: 0.8520 - val_loss: 0.3191 - val_accuracy: 0.9627 - lr: 3.7318e-06\n",
      "Epoch 53/100\n",
      "70/70 [==============================] - 1s 17ms/step - loss: 1.0637 - accuracy: 0.8504 - val_loss: 0.3195 - val_accuracy: 0.9630 - lr: 3.7318e-06\n",
      "Epoch 54/100\n",
      "70/70 [==============================] - 1s 17ms/step - loss: 1.0631 - accuracy: 0.8523 - val_loss: 0.3192 - val_accuracy: 0.9620 - lr: 3.7318e-06\n",
      "Epoch 55/100\n",
      "70/70 [==============================] - 1s 17ms/step - loss: 1.0618 - accuracy: 0.8529 - val_loss: 0.3190 - val_accuracy: 0.9620 - lr: 3.7318e-06\n"
     ]
    },
    {
     "data": {
      "text/plain": [
       "<keras.callbacks.History at 0x7f0a4bfe22b0>"
      ]
     },
     "execution_count": 85,
     "metadata": {},
     "output_type": "execute_result"
    }
   ],
   "source": [
    "best_hps = tuner.get_best_hyperparameters(num_trials=1)[0]\n",
    "best_model = tuner.hypermodel.build(best_hps)\n",
    "best_model.fit(train_ds_cutmix, epochs=100, validation_data=val_ds_cutmix ,  callbacks = [EarlyStopping(monitor='accuracy', patience=10, restore_best_weights=True), ReduceLROnPlateau(patience=5)])"
   ]
  },
  {
   "cell_type": "markdown",
   "metadata": {},
   "source": [
    "<a class=\"anchor\" id=\"1\"></a>\n",
    "## <font color='#71a1e3'> __With Auto Encoder__</font>\n",
    "<hr style=\"height:1.5px;border-width:0;background-color: #4c8c77\">\n",
    "\n",
    "Here we will do the the model on the dataset where their is removal of outliers"
   ]
  },
  {
   "cell_type": "markdown",
   "metadata": {},
   "source": [
    "### Outlier Analysis to see if it improve models\n",
    "\n",
    "- Auto Encoder are a type of deep-learning architectures that are used to learn how to compress and decompress data faithfully.\n",
    "- The compression layers are referred to as the encoding layers, and the decompression layers are referred to as the decoding layer"
   ]
  },
  {
   "cell_type": "code",
   "execution_count": 22,
   "metadata": {},
   "outputs": [],
   "source": [
    "def CNN2(name='CNN2_Final'):\n",
    "\n",
    "    filters_list = [128, 128, 128]\n",
    "\n",
    "    model = Sequential()\n",
    "\n",
    "    # Add initial convolutional layers\n",
    "    model.add(Conv2D(filters=filters_list[0], kernel_size=(3, 3), padding='same', input_shape=(31, 31, 1)))\n",
    "    model.add(BatchNormalization())\n",
    "    model.add(ReLU())\n",
    "\n",
    "    model.add(Conv2D(filters=filters_list[1], kernel_size=(3, 3), padding='same'))\n",
    "    model.add(BatchNormalization())\n",
    "    model.add(ReLU())\n",
    "\n",
    "    for filters in filters_list:\n",
    "        model.add(Conv2D(filters=filters, kernel_size=(3, 3), padding='same'))\n",
    "        model.add(BatchNormalization())\n",
    "        model.add(ReLU())\n",
    "\n",
    "    model.add(GlobalAveragePooling2D())\n",
    "    model.add(Dense(256, activation='relu'))\n",
    "    model.add(Dense(15, activation='softmax')) \n",
    "\n",
    "    model.compile(optimizer='adam', loss='categorical_crossentropy', metrics=['accuracy'])\n",
    "    model.summary()\n",
    "    return model\n"
   ]
  },
  {
   "cell_type": "code",
   "execution_count": 34,
   "metadata": {},
   "outputs": [
    {
     "data": {
      "text/plain": [
       "<tf.Tensor: shape=(9028, 31, 31, 1), dtype=float32, numpy=\n",
       "array([[[[172.45367  ],\n",
       "         [172.42911  ],\n",
       "         [148.3763   ],\n",
       "         ...,\n",
       "         [  9.082149 ],\n",
       "         [ 74.1846   ],\n",
       "         [ 75.39283  ]],\n",
       "\n",
       "        [[162.70618  ],\n",
       "         [135.46048  ],\n",
       "         [138.79718  ],\n",
       "         ...,\n",
       "         [  8.52884  ],\n",
       "         [107.87208  ],\n",
       "         [ 28.14853  ]],\n",
       "\n",
       "        [[167.73225  ],\n",
       "         [155.02101  ],\n",
       "         [160.99945  ],\n",
       "         ...,\n",
       "         [ 50.25738  ],\n",
       "         [ 68.86168  ],\n",
       "         [ 50.25877  ]],\n",
       "\n",
       "        ...,\n",
       "\n",
       "        [[ 14.9373   ],\n",
       "         [  0.632849 ],\n",
       "         [  4.264825 ],\n",
       "         ...,\n",
       "         [  0.6839429],\n",
       "         [  3.0468068],\n",
       "         [  5.292361 ]],\n",
       "\n",
       "        [[  0.5858328],\n",
       "         [  5.728203 ],\n",
       "         [  8.312161 ],\n",
       "         ...,\n",
       "         [  7.5142198],\n",
       "         [  5.191881 ],\n",
       "         [  7.5142198]],\n",
       "\n",
       "        [[ 15.314268 ],\n",
       "         [ 18.25876  ],\n",
       "         [ 15.064908 ],\n",
       "         ...,\n",
       "         [  9.060153 ],\n",
       "         [  8.925923 ],\n",
       "         [ 10.138852 ]]],\n",
       "\n",
       "\n",
       "       [[[193.64117  ],\n",
       "         [194.83122  ],\n",
       "         [195.23166  ],\n",
       "         ...,\n",
       "         [175.90071  ],\n",
       "         [176.9006   ],\n",
       "         [176.0136   ]],\n",
       "\n",
       "        [[193.1701   ],\n",
       "         [195.1098   ],\n",
       "         [196.03882  ],\n",
       "         ...,\n",
       "         [175.90071  ],\n",
       "         [176.23938  ],\n",
       "         [176.9006   ]],\n",
       "\n",
       "        [[192.99489  ],\n",
       "         [194.22058  ],\n",
       "         [196.91     ],\n",
       "         ...,\n",
       "         [175.6727   ],\n",
       "         [176.9006   ],\n",
       "         [176.9006   ]],\n",
       "\n",
       "        ...,\n",
       "\n",
       "        [[174.6944   ],\n",
       "         [173.6945   ],\n",
       "         [172.69461  ],\n",
       "         ...,\n",
       "         [172.5798   ],\n",
       "         [172.8256   ],\n",
       "         [173.82552  ]],\n",
       "\n",
       "        [[172.03915  ],\n",
       "         [171.09358  ],\n",
       "         [170.39258  ],\n",
       "         ...,\n",
       "         [170.45251  ],\n",
       "         [172.04967  ],\n",
       "         [172.83519  ]],\n",
       "\n",
       "        [[168.83559  ],\n",
       "         [167.31717  ],\n",
       "         [165.36848  ],\n",
       "         ...,\n",
       "         [166.8251   ],\n",
       "         [170.2422   ],\n",
       "         [171.98264  ]]],\n",
       "\n",
       "\n",
       "       [[[ 82.512    ],\n",
       "         [139.06451  ],\n",
       "         [145.55531  ],\n",
       "         ...,\n",
       "         [ 58.364292 ],\n",
       "         [ 31.03733  ],\n",
       "         [ 41.66342  ]],\n",
       "\n",
       "        [[126.93477  ],\n",
       "         [121.61825  ],\n",
       "         [127.76819  ],\n",
       "         ...,\n",
       "         [ 52.214436 ],\n",
       "         [ 47.239395 ],\n",
       "         [ 27.660324 ]],\n",
       "\n",
       "        [[176.44514  ],\n",
       "         [129.6598   ],\n",
       "         [131.62105  ],\n",
       "         ...,\n",
       "         [ 29.972208 ],\n",
       "         [ 41.01846  ],\n",
       "         [ 36.94515  ]],\n",
       "\n",
       "        ...,\n",
       "\n",
       "        [[147.9772   ],\n",
       "         [168.05223  ],\n",
       "         [157.06805  ],\n",
       "         ...,\n",
       "         [ 56.877274 ],\n",
       "         [ 48.841156 ],\n",
       "         [ 58.548965 ]],\n",
       "\n",
       "        [[ 25.51569  ],\n",
       "         [104.566734 ],\n",
       "         [ 99.39137  ],\n",
       "         ...,\n",
       "         [ 57.194595 ],\n",
       "         [ 65.10707  ],\n",
       "         [ 60.046555 ]],\n",
       "\n",
       "        [[ 79.3434   ],\n",
       "         [146.59338  ],\n",
       "         [101.88307  ],\n",
       "         ...,\n",
       "         [ 62.752647 ],\n",
       "         [ 75.40811  ],\n",
       "         [ 79.09191  ]]],\n",
       "\n",
       "\n",
       "       ...,\n",
       "\n",
       "\n",
       "       [[[  7.7312503],\n",
       "         [  5.7485323],\n",
       "         [ 32.666515 ],\n",
       "         ...,\n",
       "         [168.91891  ],\n",
       "         [154.27328  ],\n",
       "         [139.45831  ]],\n",
       "\n",
       "        [[ 82.06943  ],\n",
       "         [ 70.16652  ],\n",
       "         [ 40.071583 ],\n",
       "         ...,\n",
       "         [176.99704  ],\n",
       "         [176.76967  ],\n",
       "         [171.03711  ]],\n",
       "\n",
       "        [[ 50.487144 ],\n",
       "         [ 62.904877 ],\n",
       "         [ 70.73659  ],\n",
       "         ...,\n",
       "         [190.80946  ],\n",
       "         [186.50252  ],\n",
       "         [156.31047  ]],\n",
       "\n",
       "        ...,\n",
       "\n",
       "        [[ 23.133339 ],\n",
       "         [ 21.542278 ],\n",
       "         [ 19.625145 ],\n",
       "         ...,\n",
       "         [113.86776  ],\n",
       "         [113.55285  ],\n",
       "         [120.425255 ]],\n",
       "\n",
       "        [[ 33.14797  ],\n",
       "         [ 26.812588 ],\n",
       "         [ 93.866    ],\n",
       "         ...,\n",
       "         [109.111084 ],\n",
       "         [117.65326  ],\n",
       "         [169.90996  ]],\n",
       "\n",
       "        [[ 61.134888 ],\n",
       "         [126.16603  ],\n",
       "         [ 42.15338  ],\n",
       "         ...,\n",
       "         [ 73.88635  ],\n",
       "         [ 74.85272  ],\n",
       "         [189.54161  ]]],\n",
       "\n",
       "\n",
       "       [[[ 40.74086  ],\n",
       "         [ 40.23635  ],\n",
       "         [ 79.64445  ],\n",
       "         ...,\n",
       "         [176.88716  ],\n",
       "         [160.75258  ],\n",
       "         [108.47284  ]],\n",
       "\n",
       "        [[ 35.81137  ],\n",
       "         [105.29154  ],\n",
       "         [ 77.64415  ],\n",
       "         ...,\n",
       "         [176.12741  ],\n",
       "         [182.1279   ],\n",
       "         [103.53454  ]],\n",
       "\n",
       "        [[ 47.41871  ],\n",
       "         [ 44.114326 ],\n",
       "         [ 71.69076  ],\n",
       "         ...,\n",
       "         [183.45988  ],\n",
       "         [182.47992  ],\n",
       "         [128.49803  ]],\n",
       "\n",
       "        ...,\n",
       "\n",
       "        [[126.01822  ],\n",
       "         [110.4254   ],\n",
       "         [138.96176  ],\n",
       "         ...,\n",
       "         [ 77.224304 ],\n",
       "         [ 60.163605 ],\n",
       "         [ 71.154205 ]],\n",
       "\n",
       "        [[149.29305  ],\n",
       "         [112.26802  ],\n",
       "         [173.1265   ],\n",
       "         ...,\n",
       "         [ 70.999306 ],\n",
       "         [ 23.4831   ],\n",
       "         [ 75.09721  ]],\n",
       "\n",
       "        [[166.74539  ],\n",
       "         [164.93007  ],\n",
       "         [161.25201  ],\n",
       "         ...,\n",
       "         [ 67.40949  ],\n",
       "         [ 26.896173 ],\n",
       "         [ 71.39684  ]]],\n",
       "\n",
       "\n",
       "       [[[156.91318  ],\n",
       "         [142.01895  ],\n",
       "         [119.60278  ],\n",
       "         ...,\n",
       "         [146.70384  ],\n",
       "         [139.98125  ],\n",
       "         [120.82509  ]],\n",
       "\n",
       "        [[116.40975  ],\n",
       "         [123.081154 ],\n",
       "         [ 99.687546 ],\n",
       "         ...,\n",
       "         [146.57274  ],\n",
       "         [ 90.74941  ],\n",
       "         [121.43551  ]],\n",
       "\n",
       "        [[132.07002  ],\n",
       "         [111.73427  ],\n",
       "         [105.86336  ],\n",
       "         ...,\n",
       "         [120.34705  ],\n",
       "         [139.17651  ],\n",
       "         [128.70073  ]],\n",
       "\n",
       "        ...,\n",
       "\n",
       "        [[ 74.77275  ],\n",
       "         [ 89.17192  ],\n",
       "         [ 83.552475 ],\n",
       "         ...,\n",
       "         [ 68.47485  ],\n",
       "         [ 59.893208 ],\n",
       "         [ 44.92494  ]],\n",
       "\n",
       "        [[ 77.77922  ],\n",
       "         [ 77.80911  ],\n",
       "         [ 79.87411  ],\n",
       "         ...,\n",
       "         [ 70.476585 ],\n",
       "         [ 51.820377 ],\n",
       "         [ 46.45889  ]],\n",
       "\n",
       "        [[ 80.61083  ],\n",
       "         [ 87.11542  ],\n",
       "         [ 90.32149  ],\n",
       "         ...,\n",
       "         [ 46.07469  ],\n",
       "         [ 69.37136  ],\n",
       "         [ 49.135406 ]]]], dtype=float32)>"
      ]
     },
     "execution_count": 34,
     "metadata": {},
     "output_type": "execute_result"
    }
   ],
   "source": [
    "tf.expand_dims(X_train_small, -1)"
   ]
  },
  {
   "cell_type": "code",
   "execution_count": 84,
   "metadata": {},
   "outputs": [
    {
     "name": "stdout",
     "output_type": "stream",
     "text": [
      "Epoch 1/100\n",
      "64/64 [==============================] - 1s 9ms/step - loss: -1487.5659 - val_loss: -1737.6346\n",
      "Epoch 2/100\n",
      "64/64 [==============================] - 0s 7ms/step - loss: -1727.2012 - val_loss: -1737.9570\n",
      "Epoch 3/100\n",
      "64/64 [==============================] - 0s 7ms/step - loss: -1727.4813 - val_loss: -1738.1696\n",
      "Epoch 4/100\n",
      "64/64 [==============================] - 0s 7ms/step - loss: -1727.5875 - val_loss: -1738.2070\n",
      "Epoch 5/100\n",
      "64/64 [==============================] - 0s 7ms/step - loss: -1727.6113 - val_loss: -1738.2194\n",
      "Epoch 6/100\n",
      "64/64 [==============================] - 0s 7ms/step - loss: -1727.6211 - val_loss: -1738.2252\n",
      "Epoch 7/100\n",
      "64/64 [==============================] - 0s 7ms/step - loss: -1727.6262 - val_loss: -1738.2288\n",
      "Epoch 8/100\n",
      "64/64 [==============================] - 0s 7ms/step - loss: -1727.6290 - val_loss: -1738.2311\n",
      "Epoch 9/100\n",
      "64/64 [==============================] - 0s 7ms/step - loss: -1727.6315 - val_loss: -1738.2327\n",
      "Epoch 10/100\n",
      "64/64 [==============================] - 0s 7ms/step - loss: -1727.6345 - val_loss: -1738.2355\n",
      "Epoch 11/100\n",
      "64/64 [==============================] - 0s 7ms/step - loss: -1727.6368 - val_loss: -1738.2366\n",
      "Epoch 12/100\n",
      "64/64 [==============================] - 0s 7ms/step - loss: -1727.6382 - val_loss: -1738.2368\n",
      "Epoch 13/100\n",
      "64/64 [==============================] - 0s 7ms/step - loss: -1727.6381 - val_loss: -1738.2372\n",
      "Epoch 14/100\n",
      "64/64 [==============================] - 0s 7ms/step - loss: -1727.6383 - val_loss: -1738.2372\n",
      "Epoch 15/100\n",
      "64/64 [==============================] - 0s 7ms/step - loss: -1727.6382 - val_loss: -1738.2373\n",
      "Epoch 16/100\n",
      "64/64 [==============================] - 0s 7ms/step - loss: -1727.6387 - val_loss: -1738.2373\n",
      "Epoch 17/100\n",
      "64/64 [==============================] - 0s 7ms/step - loss: -1727.6379 - val_loss: -1738.2373\n",
      "Epoch 18/100\n",
      "64/64 [==============================] - 0s 7ms/step - loss: -1727.6384 - val_loss: -1738.2373\n",
      "Epoch 19/100\n",
      "64/64 [==============================] - 0s 7ms/step - loss: -1727.6384 - val_loss: -1738.2373\n",
      "Epoch 20/100\n",
      "64/64 [==============================] - 0s 7ms/step - loss: -1727.6383 - val_loss: -1738.2373\n",
      "Epoch 21/100\n",
      "64/64 [==============================] - 0s 7ms/step - loss: -1727.6383 - val_loss: -1738.2373\n",
      "Epoch 22/100\n",
      "64/64 [==============================] - 0s 7ms/step - loss: -1727.6383 - val_loss: -1738.2373\n",
      "Epoch 23/100\n",
      "64/64 [==============================] - 0s 7ms/step - loss: -1727.6382 - val_loss: -1738.2373\n",
      "Epoch 24/100\n",
      "64/64 [==============================] - 0s 7ms/step - loss: -1727.6384 - val_loss: -1738.2373\n",
      "Epoch 25/100\n",
      "64/64 [==============================] - 0s 7ms/step - loss: -1727.6382 - val_loss: -1738.2373\n",
      "Epoch 26/100\n",
      "64/64 [==============================] - 0s 7ms/step - loss: -1727.6385 - val_loss: -1738.2373\n",
      "Epoch 27/100\n",
      "64/64 [==============================] - 0s 7ms/step - loss: -1727.6387 - val_loss: -1738.2373\n",
      "Epoch 28/100\n",
      "64/64 [==============================] - 0s 7ms/step - loss: -1727.6382 - val_loss: -1738.2373\n",
      "Epoch 29/100\n",
      "64/64 [==============================] - 0s 7ms/step - loss: -1727.6387 - val_loss: -1738.2373\n",
      "Epoch 30/100\n",
      "64/64 [==============================] - 0s 7ms/step - loss: -1727.6384 - val_loss: -1738.2373\n",
      "Epoch 31/100\n",
      "64/64 [==============================] - 0s 7ms/step - loss: -1727.6387 - val_loss: -1738.2373\n",
      "Epoch 32/100\n",
      "64/64 [==============================] - 0s 7ms/step - loss: -1727.6382 - val_loss: -1738.2373\n",
      "Epoch 33/100\n",
      "64/64 [==============================] - 0s 7ms/step - loss: -1727.6384 - val_loss: -1738.2374\n",
      "Epoch 34/100\n",
      "64/64 [==============================] - 0s 7ms/step - loss: -1727.6385 - val_loss: -1738.2374\n",
      "Epoch 35/100\n",
      "64/64 [==============================] - 0s 7ms/step - loss: -1727.6382 - val_loss: -1738.2374\n",
      "Epoch 36/100\n",
      "64/64 [==============================] - 0s 7ms/step - loss: -1727.6388 - val_loss: -1738.2374\n",
      "Epoch 37/100\n",
      "64/64 [==============================] - 0s 7ms/step - loss: -1727.6387 - val_loss: -1738.2374\n",
      "Epoch 38/100\n",
      "64/64 [==============================] - 0s 7ms/step - loss: -1727.6387 - val_loss: -1738.2374\n",
      "Epoch 39/100\n",
      "64/64 [==============================] - 0s 7ms/step - loss: -1727.6384 - val_loss: -1738.2374\n",
      "Epoch 40/100\n",
      "64/64 [==============================] - 0s 7ms/step - loss: -1727.6388 - val_loss: -1738.2374\n",
      "Epoch 41/100\n",
      "64/64 [==============================] - 0s 7ms/step - loss: -1727.6385 - val_loss: -1738.2374\n",
      "Epoch 42/100\n",
      "64/64 [==============================] - 0s 7ms/step - loss: -1727.6388 - val_loss: -1738.2374\n",
      "Epoch 43/100\n",
      "64/64 [==============================] - 0s 7ms/step - loss: -1727.6383 - val_loss: -1738.2374\n",
      "Epoch 44/100\n",
      "64/64 [==============================] - 0s 7ms/step - loss: -1727.6382 - val_loss: -1738.2374\n",
      "Epoch 45/100\n",
      "64/64 [==============================] - 0s 7ms/step - loss: -1727.6384 - val_loss: -1738.2374\n",
      "Epoch 46/100\n",
      "64/64 [==============================] - 0s 7ms/step - loss: -1727.6387 - val_loss: -1738.2374\n",
      "Epoch 47/100\n",
      "64/64 [==============================] - 0s 7ms/step - loss: -1727.6384 - val_loss: -1738.2374\n",
      "Epoch 48/100\n",
      "64/64 [==============================] - 0s 7ms/step - loss: -1727.6384 - val_loss: -1738.2374\n",
      "Epoch 49/100\n",
      "64/64 [==============================] - 0s 7ms/step - loss: -1727.6383 - val_loss: -1738.2374\n",
      "Epoch 50/100\n",
      "64/64 [==============================] - 0s 7ms/step - loss: -1727.6384 - val_loss: -1738.2374\n",
      "Epoch 51/100\n",
      "64/64 [==============================] - 0s 7ms/step - loss: -1727.6385 - val_loss: -1738.2374\n",
      "Epoch 52/100\n",
      "64/64 [==============================] - 0s 7ms/step - loss: -1727.6387 - val_loss: -1738.2374\n",
      "Epoch 53/100\n",
      "64/64 [==============================] - 0s 7ms/step - loss: -1727.6385 - val_loss: -1738.2374\n",
      "Epoch 54/100\n",
      "64/64 [==============================] - 0s 7ms/step - loss: -1727.6387 - val_loss: -1738.2374\n",
      "Epoch 55/100\n",
      "64/64 [==============================] - 0s 7ms/step - loss: -1727.6385 - val_loss: -1738.2374\n",
      "Epoch 56/100\n",
      "64/64 [==============================] - 0s 7ms/step - loss: -1727.6385 - val_loss: -1738.2374\n",
      "Epoch 57/100\n",
      "64/64 [==============================] - 0s 7ms/step - loss: -1727.6384 - val_loss: -1738.2374\n",
      "Epoch 58/100\n",
      "64/64 [==============================] - 0s 7ms/step - loss: -1727.6387 - val_loss: -1738.2374\n",
      "Epoch 59/100\n",
      "64/64 [==============================] - 0s 7ms/step - loss: -1727.6384 - val_loss: -1738.2374\n",
      "Epoch 60/100\n",
      "64/64 [==============================] - 0s 7ms/step - loss: -1727.6383 - val_loss: -1738.2374\n",
      "Epoch 61/100\n",
      "64/64 [==============================] - 0s 7ms/step - loss: -1727.6384 - val_loss: -1738.2374\n",
      "Epoch 62/100\n",
      "64/64 [==============================] - 0s 7ms/step - loss: -1727.6384 - val_loss: -1738.2374\n",
      "Epoch 63/100\n",
      "64/64 [==============================] - 0s 7ms/step - loss: -1727.6385 - val_loss: -1738.2374\n",
      "Epoch 64/100\n",
      "64/64 [==============================] - 0s 7ms/step - loss: -1727.6384 - val_loss: -1738.2374\n",
      "Epoch 65/100\n",
      "64/64 [==============================] - 0s 7ms/step - loss: -1727.6383 - val_loss: -1738.2374\n",
      "Epoch 66/100\n",
      "64/64 [==============================] - 0s 7ms/step - loss: -1727.6385 - val_loss: -1738.2374\n",
      "Epoch 67/100\n",
      "64/64 [==============================] - 0s 7ms/step - loss: -1727.6388 - val_loss: -1738.2374\n",
      "Epoch 68/100\n",
      "64/64 [==============================] - 0s 7ms/step - loss: -1727.6387 - val_loss: -1738.2374\n",
      "Epoch 69/100\n",
      "64/64 [==============================] - 0s 7ms/step - loss: -1727.6385 - val_loss: -1738.2374\n",
      "Epoch 70/100\n",
      "64/64 [==============================] - 0s 7ms/step - loss: -1727.6385 - val_loss: -1738.2374\n",
      "Epoch 71/100\n",
      "64/64 [==============================] - 0s 7ms/step - loss: -1727.6387 - val_loss: -1738.2374\n",
      "Epoch 72/100\n",
      "64/64 [==============================] - 0s 7ms/step - loss: -1727.6388 - val_loss: -1738.2374\n",
      "Epoch 73/100\n",
      "64/64 [==============================] - 0s 7ms/step - loss: -1727.6390 - val_loss: -1738.2374\n",
      "Epoch 74/100\n",
      "64/64 [==============================] - 0s 7ms/step - loss: -1727.6384 - val_loss: -1738.2374\n",
      "Epoch 75/100\n",
      "64/64 [==============================] - 0s 7ms/step - loss: -1727.6387 - val_loss: -1738.2374\n",
      "Epoch 76/100\n",
      "64/64 [==============================] - 0s 7ms/step - loss: -1727.6385 - val_loss: -1738.2374\n",
      "Epoch 77/100\n",
      "64/64 [==============================] - 0s 7ms/step - loss: -1727.6384 - val_loss: -1738.2374\n",
      "Epoch 78/100\n",
      "64/64 [==============================] - 0s 7ms/step - loss: -1727.6385 - val_loss: -1738.2374\n",
      "Epoch 79/100\n",
      "64/64 [==============================] - 0s 7ms/step - loss: -1727.6384 - val_loss: -1738.2374\n",
      "Epoch 80/100\n",
      "64/64 [==============================] - 0s 7ms/step - loss: -1727.6385 - val_loss: -1738.2374\n",
      "Epoch 81/100\n",
      "64/64 [==============================] - 0s 7ms/step - loss: -1727.6384 - val_loss: -1738.2374\n",
      "Epoch 82/100\n",
      "64/64 [==============================] - 0s 7ms/step - loss: -1727.6387 - val_loss: -1738.2374\n",
      "Epoch 83/100\n",
      "64/64 [==============================] - 0s 7ms/step - loss: -1727.6387 - val_loss: -1738.2374\n",
      "Epoch 84/100\n",
      "64/64 [==============================] - 0s 7ms/step - loss: -1727.6387 - val_loss: -1738.2374\n",
      "Epoch 85/100\n",
      "64/64 [==============================] - 0s 7ms/step - loss: -1727.6389 - val_loss: -1738.2374\n",
      "Epoch 86/100\n",
      "64/64 [==============================] - 0s 7ms/step - loss: -1727.6383 - val_loss: -1738.2374\n",
      "Epoch 87/100\n",
      "64/64 [==============================] - 0s 7ms/step - loss: -1727.6382 - val_loss: -1738.2374\n",
      "Epoch 88/100\n",
      "64/64 [==============================] - 0s 7ms/step - loss: -1727.6384 - val_loss: -1738.2374\n",
      "Epoch 89/100\n",
      "64/64 [==============================] - 0s 7ms/step - loss: -1727.6385 - val_loss: -1738.2374\n",
      "Epoch 90/100\n",
      "64/64 [==============================] - 0s 7ms/step - loss: -1727.6384 - val_loss: -1738.2374\n",
      "Epoch 91/100\n",
      "64/64 [==============================] - 0s 7ms/step - loss: -1727.6385 - val_loss: -1738.2374\n",
      "Epoch 92/100\n",
      "64/64 [==============================] - 0s 7ms/step - loss: -1727.6383 - val_loss: -1738.2374\n",
      "Epoch 93/100\n",
      "64/64 [==============================] - 0s 7ms/step - loss: -1727.6383 - val_loss: -1738.2374\n",
      "Epoch 94/100\n",
      "64/64 [==============================] - 0s 7ms/step - loss: -1727.6384 - val_loss: -1738.2374\n",
      "Epoch 95/100\n",
      "64/64 [==============================] - 0s 7ms/step - loss: -1727.6387 - val_loss: -1738.2374\n",
      "Epoch 96/100\n",
      "64/64 [==============================] - 0s 7ms/step - loss: -1727.6384 - val_loss: -1738.2374\n",
      "Epoch 97/100\n",
      "64/64 [==============================] - 0s 7ms/step - loss: -1727.6385 - val_loss: -1738.2374\n",
      "Epoch 98/100\n",
      "64/64 [==============================] - 0s 7ms/step - loss: -1727.6384 - val_loss: -1738.2374\n",
      "Epoch 99/100\n",
      "64/64 [==============================] - 0s 7ms/step - loss: -1727.6383 - val_loss: -1738.2374\n",
      "Epoch 100/100\n",
      "64/64 [==============================] - 0s 7ms/step - loss: -1727.6388 - val_loss: -1738.2374\n"
     ]
    }
   ],
   "source": [
    "X_train_small_expanded = tf.expand_dims(X_train_small, -1)\n",
    "from tensorflow.keras.layers import Conv2D, Conv2DTranspose, InputLayer, Cropping2D\n",
    "# Encoder\n",
    "encoder = Sequential([\n",
    "    InputLayer(input_shape=X_train_small_expanded.shape[1:]),\n",
    "    Conv2D(16, (3, 3), activation='relu', padding='same', strides=2),\n",
    "    Conv2D(8, (3, 3), activation='relu', padding='same', strides=2)\n",
    "])\n",
    "\n",
    "# Decoder\n",
    "decoder = Sequential([\n",
    "    Conv2DTranspose(8, kernel_size=3, strides=2, activation='relu', padding='same'),\n",
    "    Conv2DTranspose(16, kernel_size=3, strides=2, activation='relu', padding='same'),\n",
    "    Conv2D(1, kernel_size=(3, 3), activation='sigmoid', padding='same'),\n",
    "    Cropping2D(cropping=((1, 0), (1, 0))) \n",
    "])\n",
    "\n",
    "autoencoder = Sequential([encoder, decoder])\n",
    "\n",
    "autoencoder.compile(optimizer='adam', loss='binary_crossentropy')\n",
    "\n",
    "history = autoencoder.fit(\n",
    "    X_train_small_expanded, X_train_small_expanded,\n",
    "    epochs=100,\n",
    "    batch_size=128,\n",
    "    validation_split=0.1\n",
    ")"
   ]
  },
  {
   "cell_type": "code",
   "execution_count": 76,
   "metadata": {},
   "outputs": [
    {
     "name": "stdout",
     "output_type": "stream",
     "text": [
      "283/283 [==============================] - 1s 3ms/step\n"
     ]
    },
    {
     "data": {
      "text/plain": [
       "array([15019.677, 26186.443, 13155.19 , ..., 21750.482, 14109.178,\n",
       "       12477.434], dtype=float32)"
      ]
     },
     "execution_count": 76,
     "metadata": {},
     "output_type": "execute_result"
    }
   ],
   "source": [
    "reconstructed = autoencoder.predict(X_train_small)\n",
    "reconstruction_error = np.mean(np.power( tf.expand_dims(X_train_small, -1) - reconstructed, 2), axis=(1,2,3))\n",
    "reconstruction_error"
   ]
  },
  {
   "cell_type": "code",
   "execution_count": 77,
   "metadata": {},
   "outputs": [],
   "source": [
    "threshold = np.quantile(reconstruction_error, 0.99)  \n",
    "outliers = X_train_small[reconstruction_error > threshold]"
   ]
  },
  {
   "cell_type": "code",
   "execution_count": 78,
   "metadata": {},
   "outputs": [
    {
     "data": {
      "image/png": "[encoded data removed]",
      "text/plain": [
       "<Figure size 2000x800 with 10 Axes>"
      ]
     },
     "metadata": {},
     "output_type": "display_data"
    }
   ],
   "source": [
    "n = 10 \n",
    "plt.figure(figsize=(20, 8))\n",
    "for i in range(n):\n",
    "    ax = plt.subplot(1, n, i + 1)\n",
    "    plt.imshow(outliers[i]) \n",
    "    plt.gray()\n",
    "    ax.get_xaxis().set_visible(False)\n",
    "    ax.get_yaxis().set_visible(False)\n",
    "    ax.set_title(f'Outlier {i+1}')\n",
    "plt.show()"
   ]
  },
  {
   "cell_type": "code",
   "execution_count": 79,
   "metadata": {},
   "outputs": [],
   "source": [
    "threshold = np.quantile(reconstruction_error, 0.99)  \n",
    "non_outliers = X_train_small[reconstruction_error <= threshold]"
   ]
  },
  {
   "cell_type": "code",
   "execution_count": 80,
   "metadata": {},
   "outputs": [],
   "source": [
    "non_outliers_labels = y_train_small[reconstruction_error <= threshold]"
   ]
  },
  {
   "cell_type": "code",
   "execution_count": 81,
   "metadata": {},
   "outputs": [
    {
     "data": {
      "text/plain": [
       "<PrefetchDataset element_spec=(TensorSpec(shape=(None, 31, 31, 1), dtype=tf.float32, name=None), TensorSpec(shape=(None, 15), dtype=tf.float32, name=None))>"
      ]
     },
     "execution_count": 81,
     "metadata": {},
     "output_type": "execute_result"
    }
   ],
   "source": [
    "train_ds_one = tf.data.Dataset.from_tensor_slices((non_outliers, non_outliers_labels)).shuffle(2048).map(preprocess_data, num_parallel_calls=tf.data.AUTOTUNE)\n",
    "train_ds_two = tf.data.Dataset.from_tensor_slices((non_outliers, non_outliers_labels)).shuffle(2048).map(preprocess_data, num_parallel_calls=tf.data.AUTOTUNE)\n",
    "\n",
    "val_ds_cutmix = tf.data.Dataset.from_tensor_slices((X_val_small, y_val_small))\n",
    "val_ds_cutmix = val_ds_cutmix.map(preprocess_data, num_parallel_calls=tf.data.AUTOTUNE).batch(128).prefetch(tf.data.AUTOTUNE)\n",
    "\n",
    "train_ds_cutmix = tf.data.Dataset.zip((train_ds_one, train_ds_two))\n",
    "train_ds_cutmix = (\n",
    "    train_ds_cutmix.shuffle(1024)\n",
    "    .map(cutmix, num_parallel_calls=tf.data.AUTOTUNE)\n",
    "    .batch(128)\n",
    "    .prefetch(tf.data.AUTOTUNE)\n",
    ")\n",
    "train_ds_cutmix"
   ]
  },
  {
   "cell_type": "code",
   "execution_count": 82,
   "metadata": {
    "scrolled": true
   },
   "outputs": [
    {
     "name": "stdout",
     "output_type": "stream",
     "text": [
      "Epoch 1/100\n",
      "70/70 [==============================] - 1s 17ms/step - loss: 1.0547 - accuracy: 0.8590 - val_loss: 0.3061 - val_accuracy: 0.9667 - lr: 3.7318e-05\n",
      "Epoch 2/100\n",
      "70/70 [==============================] - 1s 17ms/step - loss: 1.0507 - accuracy: 0.8541 - val_loss: 0.2963 - val_accuracy: 0.9680 - lr: 3.7318e-05\n",
      "Epoch 3/100\n",
      "70/70 [==============================] - 1s 17ms/step - loss: 1.0342 - accuracy: 0.8611 - val_loss: 0.3121 - val_accuracy: 0.9610 - lr: 3.7318e-05\n",
      "Epoch 4/100\n",
      "70/70 [==============================] - 1s 17ms/step - loss: 1.0428 - accuracy: 0.8629 - val_loss: 0.2930 - val_accuracy: 0.9693 - lr: 3.7318e-05\n",
      "Epoch 5/100\n",
      "70/70 [==============================] - 1s 17ms/step - loss: 1.0416 - accuracy: 0.8601 - val_loss: 0.2990 - val_accuracy: 0.9653 - lr: 3.7318e-05\n",
      "Epoch 6/100\n",
      "70/70 [==============================] - 1s 17ms/step - loss: 1.0439 - accuracy: 0.8588 - val_loss: 0.3025 - val_accuracy: 0.9660 - lr: 3.7318e-05\n",
      "Epoch 7/100\n",
      "70/70 [==============================] - 1s 17ms/step - loss: 1.0409 - accuracy: 0.8512 - val_loss: 0.3016 - val_accuracy: 0.9643 - lr: 3.7318e-05\n",
      "Epoch 8/100\n",
      "70/70 [==============================] - 1s 17ms/step - loss: 1.0360 - accuracy: 0.8560 - val_loss: 0.2950 - val_accuracy: 0.9667 - lr: 3.7318e-05\n",
      "Epoch 9/100\n",
      "70/70 [==============================] - 1s 17ms/step - loss: 1.0446 - accuracy: 0.8551 - val_loss: 0.3014 - val_accuracy: 0.9650 - lr: 3.7318e-05\n",
      "Epoch 10/100\n",
      "70/70 [==============================] - 1s 17ms/step - loss: 1.0353 - accuracy: 0.8552 - val_loss: 0.2944 - val_accuracy: 0.9680 - lr: 3.7318e-06\n",
      "Epoch 11/100\n",
      "70/70 [==============================] - 1s 17ms/step - loss: 1.0368 - accuracy: 0.8600 - val_loss: 0.2938 - val_accuracy: 0.9667 - lr: 3.7318e-06\n",
      "Epoch 12/100\n",
      "70/70 [==============================] - 1s 17ms/step - loss: 1.0369 - accuracy: 0.8592 - val_loss: 0.2934 - val_accuracy: 0.9667 - lr: 3.7318e-06\n",
      "Epoch 13/100\n",
      "70/70 [==============================] - 1s 17ms/step - loss: 1.0360 - accuracy: 0.8581 - val_loss: 0.2918 - val_accuracy: 0.9677 - lr: 3.7318e-06\n",
      "Epoch 14/100\n",
      "70/70 [==============================] - 1s 17ms/step - loss: 1.0367 - accuracy: 0.8570 - val_loss: 0.2923 - val_accuracy: 0.9677 - lr: 3.7318e-06\n"
     ]
    },
    {
     "data": {
      "text/plain": [
       "<keras.callbacks.History at 0x7f0a53537f70>"
      ]
     },
     "execution_count": 82,
     "metadata": {},
     "output_type": "execute_result"
    }
   ],
   "source": [
    "best_model.fit(train_ds_cutmix,validation_data = val_ds_cutmix, epochs=100, batch_size=64,  callbacks=[EarlyStopping(monitor='accuracy', patience=10, restore_best_weights=True), ReduceLROnPlateau(patience=5)])"
   ]
  },
  {
   "cell_type": "markdown",
   "metadata": {},
   "source": [
    "<div class=\"alert alert-block\" style=\"background-color:#a7c6d6; padding: 10px; border: 3px solid lightblue; border-radius: 5px; color:black\">\n",
    "<u><b><i>Things Observed</i></b></u>\n",
    "<ul>\n",
    "Overall, auto encoder did not really improve the model\n",
    "</div>"
   ]
  }
 ],
 "metadata": {
  "kernelspec": {
   "display_name": "Python 3 (ipykernel)",
   "language": "python",
   "name": "python3"
  },
  "language_info": {
   "codemirror_mode": {
    "name": "ipython",
    "version": 3
   },
   "file_extension": ".py",
   "mimetype": "text/x-python",
   "name": "python",
   "nbconvert_exporter": "python",
   "pygments_lexer": "ipython3",
   "version": "3.11.4"
  }
 },
 "nbformat": 4,
 "nbformat_minor": 2
}
